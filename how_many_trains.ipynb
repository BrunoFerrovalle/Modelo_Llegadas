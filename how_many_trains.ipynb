{
 "cells": [
  {
   "cell_type": "code",
   "execution_count": 6,
   "metadata": {},
   "outputs": [],
   "source": [
    "import pandas as pd # data processing, CSV file I/O (e.g. pd.read_csv)\n",
    "%matplotlib inline\n",
    "import warnings\n",
    "warnings.filterwarnings('ignore')"
   ]
  },
  {
   "cell_type": "markdown",
   "metadata": {},
   "source": [
    "Se va a hacer la limpieza de los datos para poder utilizar solo la llegada de trenes por dia para inciar el conjunto de modelos necesarios para crear estimaciones de las llegadas de los trenes "
   ]
  },
  {
   "cell_type": "code",
   "execution_count": 7,
   "metadata": {},
   "outputs": [
    {
     "name": "stdout",
     "output_type": "stream",
     "text": [
      "<class 'pandas.core.frame.DataFrame'>\n",
      "RangeIndex: 394489 entries, 0 to 394488\n",
      "Data columns (total 16 columns):\n",
      " #   Column                Non-Null Count   Dtype\n",
      "---  ------                --------------   -----\n",
      " 0   stcc                  394489 non-null  int32\n",
      " 1   netWeight             394489 non-null  int32\n",
      " 2   carLength             394489 non-null  int32\n",
      " 3   Dia_semana            394489 non-null  int32\n",
      " 4   estacionOrigen_id     394489 non-null  int32\n",
      " 5   estacionDestino_id    394489 non-null  int32\n",
      " 6   consignatario_id      394489 non-null  int32\n",
      " 7   tipoServicio_id       394489 non-null  int32\n",
      " 8   idTrenICHR_id         394489 non-null  int32\n",
      " 9   idFerrocarrilICHR_id  394489 non-null  int32\n",
      " 10  tipoCarro_id          394489 non-null  int32\n",
      " 11  año                   394489 non-null  int32\n",
      " 12  mes                   394489 non-null  int32\n",
      " 13  dia                   394489 non-null  int32\n",
      " 14  coches_por_dia        394489 non-null  int32\n",
      " 15  hora_minuto           394489 non-null  int32\n",
      "dtypes: int32(16)\n",
      "memory usage: 24.1 MB\n"
     ]
    }
   ],
   "source": [
    "df = pd.read_csv(\"ModelData.csv\")\n",
    "df = df.astype('int32')\n",
    "df.info()"
   ]
  },
  {
   "cell_type": "markdown",
   "metadata": {},
   "source": [
    "Hacemos limpiwza para quedarnos con los valores que nos son impotante para esta primer etapa "
   ]
  },
  {
   "cell_type": "code",
   "execution_count": 8,
   "metadata": {},
   "outputs": [
    {
     "data": {
      "text/html": [
       "<div>\n",
       "<style scoped>\n",
       "    .dataframe tbody tr th:only-of-type {\n",
       "        vertical-align: middle;\n",
       "    }\n",
       "\n",
       "    .dataframe tbody tr th {\n",
       "        vertical-align: top;\n",
       "    }\n",
       "\n",
       "    .dataframe thead th {\n",
       "        text-align: right;\n",
       "    }\n",
       "</style>\n",
       "<table border=\"1\" class=\"dataframe\">\n",
       "  <thead>\n",
       "    <tr style=\"text-align: right;\">\n",
       "      <th></th>\n",
       "      <th>Dia_semana</th>\n",
       "      <th>idTrenICHR_id</th>\n",
       "      <th>año</th>\n",
       "      <th>mes</th>\n",
       "      <th>dia</th>\n",
       "      <th>hora_minuto</th>\n",
       "    </tr>\n",
       "  </thead>\n",
       "  <tbody>\n",
       "    <tr>\n",
       "      <th>0</th>\n",
       "      <td>6</td>\n",
       "      <td>0</td>\n",
       "      <td>2018</td>\n",
       "      <td>1</td>\n",
       "      <td>5</td>\n",
       "      <td>1935</td>\n",
       "    </tr>\n",
       "    <tr>\n",
       "      <th>39</th>\n",
       "      <td>6</td>\n",
       "      <td>1</td>\n",
       "      <td>2018</td>\n",
       "      <td>1</td>\n",
       "      <td>5</td>\n",
       "      <td>1950</td>\n",
       "    </tr>\n",
       "    <tr>\n",
       "      <th>44</th>\n",
       "      <td>6</td>\n",
       "      <td>2</td>\n",
       "      <td>2018</td>\n",
       "      <td>1</td>\n",
       "      <td>5</td>\n",
       "      <td>2050</td>\n",
       "    </tr>\n",
       "    <tr>\n",
       "      <th>48</th>\n",
       "      <td>1</td>\n",
       "      <td>3</td>\n",
       "      <td>2018</td>\n",
       "      <td>1</td>\n",
       "      <td>7</td>\n",
       "      <td>1010</td>\n",
       "    </tr>\n",
       "    <tr>\n",
       "      <th>58</th>\n",
       "      <td>1</td>\n",
       "      <td>4</td>\n",
       "      <td>2018</td>\n",
       "      <td>1</td>\n",
       "      <td>7</td>\n",
       "      <td>1045</td>\n",
       "    </tr>\n",
       "  </tbody>\n",
       "</table>\n",
       "</div>"
      ],
      "text/plain": [
       "    Dia_semana  idTrenICHR_id   año  mes  dia  hora_minuto\n",
       "0            6              0  2018    1    5         1935\n",
       "39           6              1  2018    1    5         1950\n",
       "44           6              2  2018    1    5         2050\n",
       "48           1              3  2018    1    7         1010\n",
       "58           1              4  2018    1    7         1045"
      ]
     },
     "execution_count": 8,
     "metadata": {},
     "output_type": "execute_result"
    }
   ],
   "source": [
    "\"\"\"\n",
    "Cell generated by Data Wrangler.\n",
    "\"\"\"\n",
    "def clean_data(df):\n",
    "    # Drop columns: 'netWeight', 'stcc' and 8 other columns\n",
    "    df = df.drop(columns=['netWeight', 'stcc', 'carLength', 'estacionOrigen_id', 'estacionDestino_id', 'consignatario_id', 'tipoServicio_id', 'idFerrocarrilICHR_id', 'tipoCarro_id', 'coches_por_dia'])\n",
    "    # Drop duplicate rows across all columns\n",
    "    df = df.drop_duplicates()\n",
    "    return df\n",
    "\n",
    "df_clean = clean_data(df.copy())\n",
    "df_clean.head()"
   ]
  },
  {
   "cell_type": "markdown",
   "metadata": {},
   "source": [
    "Hacemos el conteo de trenes por dia, teniendo en cuenta tanto mes, dia de la semana y el dia(fecha) de cada tren para obtener esa metriica de manera sencilla\n"
   ]
  },
  {
   "cell_type": "code",
   "execution_count": 9,
   "metadata": {},
   "outputs": [],
   "source": [
    "# Count the number of records by day, month, and day of the week\n",
    "df_count = df_clean.groupby(['dia', 'mes', 'Dia_semana',\"año\"]).size().reset_index(name='trainsxday')\n",
    "df_count.head()\n",
    "df_count.to_csv(\"./trainsXday/trainsXday.csv\", index=False)\n"
   ]
  },
  {
   "cell_type": "markdown",
   "metadata": {},
   "source": []
  }
 ],
 "metadata": {
  "kernelspec": {
   "display_name": "base",
   "language": "python",
   "name": "python3"
  },
  "language_info": {
   "codemirror_mode": {
    "name": "ipython",
    "version": 3
   },
   "file_extension": ".py",
   "mimetype": "text/x-python",
   "name": "python",
   "nbconvert_exporter": "python",
   "pygments_lexer": "ipython3",
   "version": "3.11.7"
  }
 },
 "nbformat": 4,
 "nbformat_minor": 2
}
